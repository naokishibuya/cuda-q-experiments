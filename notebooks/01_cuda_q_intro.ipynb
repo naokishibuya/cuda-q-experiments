{
  "cells": [
    {
      "cell_type": "markdown",
      "metadata": {
        "id": "view-in-github",
        "colab_type": "text"
      },
      "source": [
        "<a href=\"https://colab.research.google.com/github/naokishibuya/cuda-q-experiments/blob/main/notebooks/01_cuda_q_intro.ipynb\" target=\"_parent\"><img src=\"https://colab.research.google.com/assets/colab-badge.svg\" alt=\"Open In Colab\"/></a>"
      ]
    },
    {
      "cell_type": "markdown",
      "metadata": {
        "id": "tJhnoEZhUO5W"
      },
      "source": [
        "# 01 — CUDA-Q Intro (Google Colab-ready)\n",
        "\n",
        "[![Open In Colab](https://colab.research.google.com/assets/colab-badge.svg)](https://colab.research.google.com/github/naokishibuya/cuda-q-experiments/blob/main/notebooks/01_cuda-q_intro.ipynb)\n",
        "\n",
        "This notebook makes sure it can run with **CUDA-Q** on Google Colab and verifies the install with a Bell state and a tiny variational example.\n",
        "\n",
        "1. Check GPU in the Google Colab's Edit > Notebook settings\n",
        "2. Install CUDA-Q (`pip install cudaq`)\n",
        "3. Run a Bell state example and sample results\n",
        "4. Evaluate an observable with `cudaq.observe` in a small 1-qubit variational loop\n"
      ],
      "id": "tJhnoEZhUO5W"
    },
    {
      "cell_type": "markdown",
      "metadata": {
        "id": "NnACRbLDUO5Y"
      },
      "source": [
        "## Install CUDA-Q (Python API)\n",
        "\n",
        "If not already installed, install CUDA-Q with pip:"
      ],
      "id": "NnACRbLDUO5Y"
    },
    {
      "cell_type": "code",
      "execution_count": null,
      "metadata": {
        "id": "install"
      },
      "outputs": [],
      "source": [
        "%pip install --upgrade pip\n",
        "%pip install cudaq"
      ],
      "id": "install"
    },
    {
      "cell_type": "code",
      "execution_count": 2,
      "metadata": {
        "id": "import_version",
        "colab": {
          "base_uri": "https://localhost:8080/"
        },
        "outputId": "e9caccfb-7ccc-4748-ee15-76cef62f3454"
      },
      "outputs": [
        {
          "output_type": "stream",
          "name": "stdout",
          "text": [
            "CUDA-Q version: CUDA-Q Version 0.12.0 (https://github.com/NVIDIA/cuda-quantum 6adf92bcda4df7465e4fe82f1c8f782ae69d8bd2)\n"
          ]
        }
      ],
      "source": [
        "import cudaq\n",
        "\n",
        "print('CUDA-Q version:', getattr(cudaq, '__version__', 'unknown'))"
      ],
      "id": "import_version"
    },
    {
      "cell_type": "markdown",
      "metadata": {
        "id": "1n0nF97jUO5a"
      },
      "source": [
        "## Hello, Bell State\n",
        "Prepare a 2-qubit Bell state and sample bitstrings. You should mainly see `00` and `11`.\n"
      ],
      "id": "1n0nF97jUO5a"
    },
    {
      "cell_type": "code",
      "execution_count": 3,
      "metadata": {
        "id": "bell",
        "colab": {
          "base_uri": "https://localhost:8080/"
        },
        "outputId": "ad6f27a6-5514-40bd-d30d-692592304ed4"
      },
      "outputs": [
        {
          "output_type": "stream",
          "name": "stdout",
          "text": [
            "{ 00:1022 11:978 }\n",
            "\n"
          ]
        }
      ],
      "source": [
        "# Create a Bell state and sample it\n",
        "kernel = cudaq.make_kernel()\n",
        "q = kernel.qalloc(2)\n",
        "\n",
        "kernel.h(q[0])\n",
        "kernel.cx(q[0], q[1])\n",
        "kernel.mz(q)\n",
        "\n",
        "result = cudaq.sample(kernel, shots_count=2000)\n",
        "print(result)\n"
      ],
      "id": "bell"
    },
    {
      "cell_type": "markdown",
      "metadata": {
        "id": "Fu7GD2kuUO5a"
      },
      "source": [
        "## Tiny Variational Example with `observe`\n",
        "We target an expectation value $\\langle Z \\rangle = 0.5$ using a single-parameter circuit $R_y(\\theta)|0\\rangle$.\n",
        "\n",
        "Analytically, $\\langle Z \\rangle = \\cos(\\theta)$ for this ansatz, so the exact solution is $\\theta = \\arccos(0.5) = \\pi/3 \\approx 1.0472$.\n",
        "\n",
        "Below we:\n",
        "1. Build a parameterized kernel\n",
        "2. Define an observable `Z`\n",
        "3. Use `cudaq.observe` to evaluate $\\langle Z \\rangle$ without destructive measurement\n",
        "4. Do a simple grid search to get close to the exact angle\n"
      ],
      "id": "Fu7GD2kuUO5a"
    },
    {
      "cell_type": "code",
      "execution_count": 4,
      "metadata": {
        "id": "variational",
        "colab": {
          "base_uri": "https://localhost:8080/"
        },
        "outputId": "5bd54129-3c79-45c1-c313-ecd602b7be81"
      },
      "outputs": [
        {
          "output_type": "stream",
          "name": "stdout",
          "text": [
            "Exact theta (acos(target)) = 1.0471975511965979\n",
            "\n",
            "Scanning coarse grid...\n",
            "i=  0  t=0.000000  |<Z> - target| = 0.500000\n",
            "i= 25  t=0.785398  |<Z> - target| = 0.207107\n",
            "i= 50  t=1.570796  |<Z> - target| = 0.500000\n",
            "i= 75  t=2.356194  |<Z> - target| = 1.207107\n",
            "i=100  t=3.141593  |<Z> - target| = 1.500000\n",
            "\n",
            "Best coarse theta ≈ 1.036726  objective ≈ 9.041518e-03\n",
            "Delta from exact ≈ 0.010471975511965992\n"
          ]
        }
      ],
      "source": [
        "from math import pi, acos\n",
        "\n",
        "# 1. Build a parameterized kernel: one qubit, RY(theta)\n",
        "kernel, theta = cudaq.make_kernel(float)\n",
        "q = kernel.qalloc()\n",
        "kernel.ry(theta, q)\n",
        "\n",
        "# 2. Define an observable and target\n",
        "H = cudaq.spin.z(0)\n",
        "target = 0.5\n",
        "theta_exact = acos(target)\n",
        "print('Exact theta (acos(target)) =', theta_exact)\n",
        "\n",
        "# 3. Define an objective function\n",
        "#    Use cudaq.observe to evaluate <Z>(t) for given t\n",
        "def objective(t: float) -> float:\n",
        "    # Return |<Z>(t) - target| using cudaq.observe.\n",
        "    obs = cudaq.observe(kernel, H, t)\n",
        "    exp = obs.expectation()\n",
        "    return abs(exp - target)\n",
        "\n",
        "# 4. Do a simple grid search over theta in [0, pi]\n",
        "print('\\nScanning coarse grid...')\n",
        "best_t, best_val = None, 1e9\n",
        "for i in range(0, 101):\n",
        "    t = i * pi / 100\n",
        "    val = objective(t)\n",
        "    if val < best_val:\n",
        "        best_t, best_val = t, val\n",
        "    if i % 25 == 0:\n",
        "        print(f'i={i:3d}  t={t:.6f}  |<Z> - target| = {val:.6f}')\n",
        "\n",
        "print(f\"\\nBest coarse theta ≈ {best_t:.6f}  objective ≈ {best_val:.6e}\")\n",
        "print('Delta from exact ≈', abs(best_t - theta_exact))\n"
      ],
      "id": "variational"
    }
  ],
  "metadata": {
    "colab": {
      "provenance": [],
      "gpuType": "T4",
      "include_colab_link": true
    },
    "kernelspec": {
      "display_name": "Python 3",
      "name": "python3"
    },
    "language_info": {
      "name": "python",
      "version": "3.10"
    },
    "accelerator": "GPU"
  },
  "nbformat": 4,
  "nbformat_minor": 5
}