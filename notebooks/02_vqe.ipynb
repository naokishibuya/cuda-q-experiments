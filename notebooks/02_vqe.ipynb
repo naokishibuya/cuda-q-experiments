{
  "cells": [
    {
      "cell_type": "markdown",
      "metadata": {
        "id": "view-in-github",
        "colab_type": "text"
      },
      "source": [
        "<a href=\"https://colab.research.google.com/github/naokishibuya/cuda-q-experiments/blob/main/notebooks/02_vqe.ipynb\" target=\"_parent\"><img src=\"https://colab.research.google.com/assets/colab-badge.svg\" alt=\"Open In Colab\"/></a>"
      ]
    },
    {
      "cell_type": "markdown",
      "id": "xNl5P_wmZRu7",
      "metadata": {
        "id": "xNl5P_wmZRu7"
      },
      "source": [
        "# 02 — Hybrid Workflow (VQE)\n",
        "\n",
        "This notebook demonstrates a **hybrid quantum–classical loop** in CUDA‑Q using a 2‑qubit VQE‑style example.\n",
        "\n",
        "1. Define a simple **toy Hamiltonian**\n",
        "2. Define a 2‑qubit **parameterized ansatz**\n",
        "3. Build an **objective** with `cudaq.observe`\n",
        "4. Optimize parameters with **SciPy** (fallback to a simple search if SciPy is unavailable)\n",
        "5. Plot energy vs. iterations\n",
        "\n",
        "See [01 — CUDA-Q Intro (Google Colab-ready)](01_cuda-q_intro.ipynb) for CUDA-Q setup."
      ]
    },
    {
      "cell_type": "code",
      "execution_count": 1,
      "id": "mtj5xSw6ynhj",
      "metadata": {
        "id": "mtj5xSw6ynhj"
      },
      "outputs": [],
      "source": [
        "# Uncomment and install cuda-q if not already\n",
        "\n",
        "# %pip install --upgrade pip\n",
        "# %pip install cudaq"
      ]
    },
    {
      "cell_type": "markdown",
      "id": "uSUgK84qZRu_",
      "metadata": {
        "id": "uSUgK84qZRu_"
      },
      "source": [
        "## Define a 2‑Qubit Hamiltonian\n",
        "\n",
        "Our Hamiltonian is:\n",
        "$$ H = Z_0 Z_1 + X_0 + X_0. $$\n",
        "\n",
        "This is a toy example with the following characteristics:\n",
        "- $Z_0 Z_1$: This term represents an interaction between the two qubits (qubit 0 and qubit 1). The Pauli-Z operator ($Z$) measures the state of a qubit in the computational basis ($|0\\rangle$ and $|1\\rangle$). The product $Z_0 Z_1$ means we are taking the product of the Z measurements on both qubits. If both qubits are in the same state ($|00\\rangle$ or $|11\\rangle$), the contribution from this term is positive. If they are in different states ($|01\\rangle$ or $|10\\rangle$), the contribution is negative. This term is often used to represent interactions between qubits, such as Ising-type interactions.\n",
        "- $X_0$, $X_1$: These terms represent local effects on qubit 0 and 1. The Pauli-X operator ($X$) is the quantum NOT gate. Measuring in the X basis is equivalent to measuring in the computational basis after applying a Hadamard gate. This term can represent a magnetic field or other local potential acting on qubit 0 and 1.\n",
        "\n",
        "So, the total Hamiltonian $H$ is a sum of these two terms. It's a 2-qubit Ising model with a transverse field on both qubits, and describes the total energy of the system."
      ]
    },
    {
      "cell_type": "code",
      "execution_count": 2,
      "id": "gOn5HG6RyunJ",
      "metadata": {
        "colab": {
          "base_uri": "https://localhost:8080/"
        },
        "id": "gOn5HG6RyunJ",
        "outputId": "d5eac238-bf58-4f96-eb2a-d8785ddd4dff"
      },
      "outputs": [
        {
          "output_type": "stream",
          "name": "stdout",
          "text": [
            "(1+0i) * Z0Z1 + (1+0i) * X0 + (1+0i) * X1\n"
          ]
        }
      ],
      "source": [
        "import cudaq\n",
        "\n",
        "# Hamiltonian H = Z0*Z1 + X0 + X1\n",
        "H = cudaq.spin.z(0) * cudaq.spin.z(1) + cudaq.spin.x(0) + cudaq.spin.x(1)\n",
        "\n",
        "print(str(H))"
      ]
    },
    {
      "cell_type": "markdown",
      "source": [
        "We use an ansatz with four parameters $\\alpha, \\beta, \\gamma, \\delta$:\n",
        "\n",
        "$$\n",
        "|\\psi(\\alpha,\\beta,\\gamma,\\delta)\\rangle = \\bigl[\\mathrm{RY}_0(\\alpha) \\otimes \\mathrm{RY}_1(\\beta) \\bigr] \\;\\mathrm{CNOT}_{0\\to1}\\; \\bigl[\\mathrm{RY}_0(\\gamma) \\otimes \\mathrm{RY}_1(\\delta) \\bigr]\\,|00\\rangle\n",
        "$$\n"
      ],
      "metadata": {
        "id": "qFUaGi6hToxD"
      },
      "id": "qFUaGi6hToxD"
    },
    {
      "cell_type": "code",
      "execution_count": 3,
      "id": "ansatz_ham",
      "metadata": {
        "colab": {
          "base_uri": "https://localhost:8080/"
        },
        "id": "ansatz_ham",
        "outputId": "62c60805-84e3-475a-f844-29b7122ff7f2"
      },
      "outputs": [
        {
          "output_type": "stream",
          "name": "stdout",
          "text": [
            "MLIR:\n",
            "module attributes {quake.mangled_name_map = {__nvqpp__mlirgen____nvqppBuilderKernel_7641EJHL82 = \"__nvqpp__mlirgen____nvqppBuilderKernel_7641EJHL82_PyKernelEntryPointRewrite\"}} {\n",
            "  func.func @__nvqpp__mlirgen____nvqppBuilderKernel_7641EJHL82(%arg0: f64, %arg1: f64, %arg2: f64, %arg3: f64) attributes {\"cudaq-entrypoint\", \"cudaq-kernel\"} {\n",
            "    %0 = quake.alloca !quake.veq<2>\n",
            "    %1 = quake.extract_ref %0[0] : (!quake.veq<2>) -> !quake.ref\n",
            "    quake.ry (%arg0) %1 : (f64, !quake.ref) -> ()\n",
            "    %2 = quake.extract_ref %0[1] : (!quake.veq<2>) -> !quake.ref\n",
            "    quake.ry (%arg1) %2 : (f64, !quake.ref) -> ()\n",
            "    quake.x [%1] %2 : (!quake.ref, !quake.ref) -> ()\n",
            "    quake.ry (%arg2) %1 : (f64, !quake.ref) -> ()\n",
            "    quake.ry (%arg3) %2 : (f64, !quake.ref) -> ()\n",
            "    return\n",
            "  }\n",
            "}\n",
            "\n"
          ]
        }
      ],
      "source": [
        "from math import pi\n",
        "\n",
        "# Parameterized kernel: four parameters.\n",
        "def make_kernel():\n",
        "    kernel, *params = cudaq.make_kernel(float, float, float, float)\n",
        "    q = kernel.qalloc(2)\n",
        "\n",
        "    kernel.ry(params[0], q[0])\n",
        "    kernel.ry(params[1], q[1])\n",
        "    kernel.cx(q[0], q[1])\n",
        "    kernel.ry(params[2], q[0])\n",
        "    kernel.ry(params[3], q[1])\n",
        "    return kernel, q\n",
        "\n",
        "kernel, _ = make_kernel()\n",
        "\n",
        "print(\"MLIR:\")\n",
        "print(kernel)"
      ]
    },
    {
      "cell_type": "code",
      "source": [
        "# A circuit with a list of parameters given\n",
        "print(cudaq.draw(kernel, 0.0, 0.0, 0.0, 0.0))"
      ],
      "metadata": {
        "colab": {
          "base_uri": "https://localhost:8080/"
        },
        "id": "OyRLFA6tvxS8",
        "outputId": "60343b77-31f3-404a-86a3-a75b4ddd7cd8"
      },
      "id": "OyRLFA6tvxS8",
      "execution_count": 4,
      "outputs": [
        {
          "output_type": "stream",
          "name": "stdout",
          "text": [
            "     ╭───────╮     ╭───────╮\n",
            "q0 : ┤ ry(0) ├──●──┤ ry(0) ├\n",
            "     ├───────┤╭─┴─╮├───────┤\n",
            "q1 : ┤ ry(0) ├┤ x ├┤ ry(0) ├\n",
            "     ╰───────╯╰───╯╰───────╯\n",
            "\n"
          ]
        }
      ]
    },
    {
      "cell_type": "code",
      "source": [
        "# Another example with different parameter values\n",
        "print(cudaq.draw(kernel, 0.1, 0.2, 0.3, 0.4))"
      ],
      "metadata": {
        "id": "aA-P2tSAwtc0",
        "outputId": "e1fda23d-9342-47ec-e0a3-6aac1a987863",
        "colab": {
          "base_uri": "https://localhost:8080/"
        }
      },
      "id": "aA-P2tSAwtc0",
      "execution_count": 5,
      "outputs": [
        {
          "output_type": "stream",
          "name": "stdout",
          "text": [
            "     ╭─────────╮     ╭─────────╮\n",
            "q0 : ┤ ry(0.1) ├──●──┤ ry(0.3) ├\n",
            "     ├─────────┤╭─┴─╮├─────────┤\n",
            "q1 : ┤ ry(0.2) ├┤ x ├┤ ry(0.4) ├\n",
            "     ╰─────────╯╰───╯╰─────────╯\n",
            "\n"
          ]
        }
      ]
    },
    {
      "cell_type": "markdown",
      "id": "VZvAChp1HBxu",
      "metadata": {
        "id": "VZvAChp1HBxu"
      },
      "source": [
        "The goal of the VQE algorithm is to find the parameters for the ansatz circuit that minimize the expectation value of this Hamiltonian, which corresponds to finding an approximation of the ground state energy of the system.\n",
        "\n",
        "The Hamiltonian can be calculated as follows, using computational basis $\\{|00\\rangle, |01\\rangle, |10\\rangle, |11\\rangle\\}$.\n",
        "\n",
        "$$\n",
        "Z_0Z_1 = \\text{diag}(+1, -1, -1, +1)\n",
        "$$\n",
        "\n",
        "$$\n",
        "X_0 = X_0 I_1 = \\begin{bmatrix}\n",
        "  0 & 0 & 1 & 0 \\\\\n",
        "  0 & 0 & 0 & 1 \\\\\n",
        "  1 & 0 & 0 & 0 \\\\\n",
        "  0 & 1 & 0 & 0\n",
        "\\end{bmatrix}\n",
        "$$\n",
        "\n",
        "$$\n",
        "X_1 = I_0 X_1 = \\begin{bmatrix}\n",
        "  0 & 1 & 0 & 0 \\\\\n",
        "  1 & 0 & 0 & 0 \\\\\n",
        "  0 & 0 & 0 & 1 \\\\\n",
        "  0 & 0 & 1 & 0\n",
        "\\end{bmatrix}\n",
        "$$\n",
        "\n",
        "So, the Hamiltonian is:\n",
        "\n",
        "$$\n",
        "H = Z_0Z_1 + X_0 + X_1 = \\begin{bmatrix}\n",
        "1 &  1 &  1 & 0 \\\\\n",
        "1 & -1 &  0 & 1 \\\\\n",
        "1 &  0 & -1 & 1 \\\\\n",
        "0 &  1 &  1 & 1\n",
        "\\end{bmatrix}\n",
        "$$\n",
        "\n",
        "The theoretical minimum of the Hamiltonian can be estimated as follows:"
      ]
    },
    {
      "cell_type": "code",
      "execution_count": 6,
      "id": "42431d48",
      "metadata": {
        "colab": {
          "base_uri": "https://localhost:8080/"
        },
        "id": "42431d48",
        "outputId": "18ad6a9c-3222-4c01-b931-580c7de6b500"
      },
      "outputs": [
        {
          "output_type": "stream",
          "name": "stdout",
          "text": [
            "Eigenvalues of the Hamiltonian:\n",
            "[ 2.23606798  1.         -2.23606798 -1.        ]\n",
            "\n",
            "Eigenvectors of the Hamiltonian:\n",
            "[[-6.01500955e-01 -7.07106781e-01 -3.71748034e-01  1.11022302e-16]\n",
            " [-3.71748034e-01 -8.53785880e-17  6.01500955e-01 -7.07106781e-01]\n",
            " [-3.71748034e-01  2.48198220e-17  6.01500955e-01  7.07106781e-01]\n",
            " [-6.01500955e-01  7.07106781e-01 -3.71748034e-01  1.11022302e-16]]\n",
            "\n",
            "Ground state energy (minimum eigenvalue): -2.2360679774997902\n",
            "[-0.37174803  0.60150096  0.60150096 -0.37174803]\n"
          ]
        }
      ],
      "source": [
        "import numpy as np\n",
        "\n",
        "# Matrix representation of the Hamiltonian H = Z0*Z1 + X0 + X1\n",
        "H_matrix = np.array([\n",
        "    [1,  1,  1, 0],\n",
        "    [1, -1,  0, 1],\n",
        "    [1,  0, -1, 1],\n",
        "    [0,  1,  1, 1]\n",
        "])\n",
        "\n",
        "# Calculate the eigenvalues\n",
        "eigenvalues, eigenvectors = np.linalg.eig(H_matrix)\n",
        "\n",
        "print(\"Eigenvalues of the Hamiltonian:\")\n",
        "print(eigenvalues)\n",
        "\n",
        "print(\"\\nEigenvectors of the Hamiltonian:\")\n",
        "print(eigenvectors)\n",
        "\n",
        "# The ground state energy is the minimum eigenvalue\n",
        "min_index = np.argmin(eigenvalues)\n",
        "ground_energy = eigenvalues[min_index]\n",
        "ground_state  = eigenvectors[:, min_index]\n",
        "\n",
        "print(f\"\\nGround state energy (minimum eigenvalue): {ground_energy}\")\n",
        "print(ground_state)"
      ]
    },
    {
      "cell_type": "markdown",
      "id": "622d-HcIZRu_",
      "metadata": {
        "id": "622d-HcIZRu_"
      },
      "source": [
        "## Objective Function with `observe`\n",
        "We compute the expectation value $E(\\text{params}) = \\langle H \\rangle$ **without** destructive measurement.\n"
      ]
    },
    {
      "cell_type": "code",
      "execution_count": 7,
      "id": "objective",
      "metadata": {
        "colab": {
          "base_uri": "https://localhost:8080/"
        },
        "id": "objective",
        "outputId": "a70b7aa7-1ae5-4ac8-a35d-7e90e80aeabf"
      },
      "outputs": [
        {
          "output_type": "stream",
          "name": "stdout",
          "text": [
            "E([0.0, 0.0, 0.0, 0.0]) = 1.0\n",
            "E([3.141592653589793, 0.0, 0.0, 0.0]) = 1.000000000000002\n",
            "E([3.141592653589793, 0.0, 0.0, 3.141592653589793]) = -0.9999999125772234\n"
          ]
        }
      ],
      "source": [
        "from math import sqrt\n",
        "\n",
        "def energy(*params) -> float:\n",
        "    \"\"\"Return the expectation <H> for given parameters.\"\"\"\n",
        "    obs = cudaq.observe(kernel, H, *params)\n",
        "    return obs.expectation()\n",
        "\n",
        "# Quick smoke tests\n",
        "for params in [\n",
        "  [0.0, 0.0, 0.0, 0.0],   # No RY, CNOT has no effect: |00> => |00>\n",
        "  [pi , 0.0, 0.0, 0.0],   # RY(pi) on 0 and CNOT triggers: |00> => |11>\n",
        "  [pi , 0.0, 0.0, pi ],   # RY(pi) on 0 and CNOT triggers and RY(pi) on 1: |00> => |10>\n",
        "]:\n",
        "    print(f\"E({params}) = {energy(*params)}\")\n"
      ]
    },
    {
      "cell_type": "markdown",
      "id": "BiWHFbArZRu_",
      "metadata": {
        "id": "BiWHFbArZRu_"
      },
      "source": [
        "## Optimize with SciPy\n",
        "\n",
        "The goal of the VQE algorithm: to find the parameters for the ansatz circuit that minimize the expectation value of the Hamiltonian.\n",
        "\n",
        "Note: the state that minimizes this expectation value <H> is an approximation of the ground state of the Hamiltonian.\n"
      ]
    },
    {
      "cell_type": "code",
      "execution_count": 8,
      "id": "optimize",
      "metadata": {
        "colab": {
          "base_uri": "https://localhost:8080/"
        },
        "id": "optimize",
        "outputId": "945c9ad4-8f50-4690-800d-801389fd9983"
      },
      "outputs": [
        {
          "output_type": "stream",
          "name": "stdout",
          "text": [
            "Optimization terminated successfully.\n",
            "         Current function value: -2.236068\n",
            "         Iterations: 235\n",
            "         Function evaluations: 405\n",
            "\n",
            "Optimized parameters (theta, phi): [ 1.64157334 -2.03583877  0.07909229 -0.03510453]\n",
            "Min energy ~ -2.236068218946457\n"
          ]
        }
      ],
      "source": [
        "import math\n",
        "import numpy as np\n",
        "import scipy.optimize as opt\n",
        "\n",
        "history = []  # plotting later\n",
        "\n",
        "# minimization objective\n",
        "def objective(x):\n",
        "    e = energy(*x)\n",
        "    history.append(e)\n",
        "    return e\n",
        "\n",
        "\n",
        "# initial guess\n",
        "x0 = [0, 0, 0, 0]\n",
        "\n",
        "# minimization\n",
        "res = opt.minimize(\n",
        "    objective,\n",
        "    x0=x0,\n",
        "    method='Nelder-Mead',\n",
        "    options={\n",
        "        'maxiter': 1000,\n",
        "        'disp': True,\n",
        "    },\n",
        ")\n",
        "\n",
        "if res.success:\n",
        "    optimal_x = res.x\n",
        "    optimal_e = energy(*optimal_x)\n",
        "\n",
        "    print('\\nOptimized parameters (theta, phi):', optimal_x)\n",
        "    print('Min energy ~', optimal_e)\n",
        "else:\n",
        "    print('\\nOptimization failed!')"
      ]
    },
    {
      "cell_type": "markdown",
      "id": "3i-pFqYwZRvA",
      "metadata": {
        "id": "3i-pFqYwZRvA"
      },
      "source": [
        "## Plot Energy vs Iterations\n",
        "Matplotlib only, one figure, no style overrides.\n"
      ]
    },
    {
      "cell_type": "code",
      "execution_count": 9,
      "id": "plot_energy",
      "metadata": {
        "colab": {
          "base_uri": "https://localhost:8080/",
          "height": 472
        },
        "id": "plot_energy",
        "outputId": "b8b0c402-949f-4eeb-d7c1-7e24e45336c8"
      },
      "outputs": [
        {
          "output_type": "display_data",
          "data": {
            "text/plain": [
              "<Figure size 640x480 with 1 Axes>"
            ],
            "image/png": "[encoded data removed]"
          },
          "metadata": {}
        }
      ],
      "source": [
        "import matplotlib.pyplot as plt\n",
        "import numpy as np\n",
        "\n",
        "y = np.array(history, dtype=float)\n",
        "x = np.arange(1, len(y) + 1)\n",
        "\n",
        "plt.figure()\n",
        "plt.plot(x, y)\n",
        "plt.xlabel('Iteration')\n",
        "plt.ylabel('Energy <H>')\n",
        "plt.title('VQE Toy: Energy vs Iterations')\n",
        "plt.show()\n"
      ]
    },
    {
      "cell_type": "markdown",
      "id": "lRQXKjsAZRvA",
      "metadata": {
        "id": "lRQXKjsAZRvA"
      },
      "source": [
        "### Sample Bitstrings at the Optimum\n",
        "Sampling collapses the state; this is just to inspect the distribution at the optimum.\n"
      ]
    },
    {
      "cell_type": "code",
      "execution_count": 10,
      "id": "sample_final",
      "metadata": {
        "colab": {
          "base_uri": "https://localhost:8080/"
        },
        "id": "sample_final",
        "outputId": "526ff877-a068-47d8-84ca-371f0fde0d8c"
      },
      "outputs": [
        {
          "output_type": "stream",
          "name": "stdout",
          "text": [
            "{ 00:262 01:717 10:744 11:277 }\n",
            "\n"
          ]
        }
      ],
      "source": [
        "shots = cudaq.sample(kernel, *optimal_x, shots_count=2000)\n",
        "\n",
        "print(shots)"
      ]
    },
    {
      "cell_type": "markdown",
      "source": [
        "The ground state is mostly anti-correlated in Z (more weight on 01 and 10 than 00 and 11), as the sample distribution shows.\n",
        "\n",
        "From these samples measured in the computational ($Z$) basis, we can estimate\n",
        "\n",
        "$$\n",
        "\\langle Z_0 Z_1\\rangle = P_{00}+P_{11}-P_{01}-P_{10}\n",
        "= \\tfrac{268+276-702-754}{2000} \\approx -0.456.\n",
        "$$\n",
        "\n",
        "For the true ground state of $H=Z_0Z_1+X_0+X_1$,\n",
        "\n",
        "$$\n",
        "\\langle Z_0 Z_1\\rangle = -\\tfrac{1}{\\sqrt{5}}\\approx -0.4472,\\quad\n",
        "\\langle X_0\\rangle=\\langle X_1\\rangle=-\\tfrac{2}{\\sqrt{5}}\\approx -0.8944.\n",
        "$$\n",
        "\n",
        "The sampled $\\langle Z_0Z_1\\rangle\\approx -0.456$ is **very close** to the theoretical $-0.4472$, which is exactly what we expect.\n",
        "\n",
        "We can also measure in the $X$ basis as follows:"
      ],
      "metadata": {
        "id": "mKuk9fdwgMif"
      },
      "id": "mKuk9fdwgMif"
    },
    {
      "cell_type": "code",
      "source": [
        "k, q = make_kernel()\n",
        "\n",
        "# Measure in X basis means apply Hadamard and measure in Z (the computational basis is default).\n",
        "k.h(q[0])\n",
        "k.h(q[1])\n",
        "\n",
        "shots = cudaq.sample(k, *optimal_x, shots_count=2000)\n",
        "\n",
        "print(shots)"
      ],
      "metadata": {
        "colab": {
          "base_uri": "https://localhost:8080/"
        },
        "id": "3rqICGOwnBWA",
        "outputId": "ed3d4a6f-f70e-4a1c-f4e6-b58432789f80"
      },
      "id": "3rqICGOwnBWA",
      "execution_count": 11,
      "outputs": [
        {
          "output_type": "stream",
          "name": "stdout",
          "text": [
            "{ 00:92 11:1908 }\n",
            "\n"
          ]
        }
      ]
    },
    {
      "cell_type": "markdown",
      "source": [
        "The bitstrings mean:\n",
        "\n",
        "- $00 \\to X_0 = +1, X_1 = +1$\n",
        "- $11 \\to X_0 = -1, X_1 = -1$\n",
        "\n",
        "They are perfectly correlated (they flip together).\n",
        "\n",
        "The probabilities are:\n",
        "\n",
        "- $P(00) \\approx 0.054$\n",
        "- $P(11) \\approx 0.946$.\n",
        "\n",
        "The expectation values are:\n",
        "\n",
        "$$\n",
        "\\langle X_0 \\rangle = \\langle X_1 \\rangle = 0.054 \\times +1 + 0.946 \\times -1 \\approx -0.892\n",
        "$$\n",
        "\n",
        "This closely matches with the theoretical ground state prediction ($\\approx -0.8944$).\n"
      ],
      "metadata": {
        "id": "fd_nW47arRsw"
      },
      "id": "fd_nW47arRsw"
    }
  ],
  "metadata": {
    "accelerator": "GPU",
    "colab": {
      "gpuType": "T4",
      "provenance": [],
      "include_colab_link": true
    },
    "kernelspec": {
      "display_name": "Python 3",
      "name": "python3"
    },
    "language_info": {
      "name": "python",
      "version": "3.10"
    }
  },
  "nbformat": 4,
  "nbformat_minor": 5
}