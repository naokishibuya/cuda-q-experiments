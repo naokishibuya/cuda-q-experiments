{
  "cells": [
    {
      "cell_type": "markdown",
      "metadata": {
        "id": "view-in-github",
        "colab_type": "text"
      },
      "source": [
        "<a href=\"https://colab.research.google.com/github/naokishibuya/cuda-q-experiments/blob/main/notebooks/03_parameter_shift_gradients.ipynb\" target=\"_parent\"><img src=\"https://colab.research.google.com/assets/colab-badge.svg\" alt=\"Open In Colab\"/></a>"
      ]
    },
    {
      "cell_type": "markdown",
      "metadata": {
        "id": "AIoeNfvfvFyQ"
      },
      "source": [
        "# 03 — Parameter-Shift Gradients\n",
        "\n",
        "## Why gradients matter in VQE\n",
        "\n",
        "* VQE and similar algorithms minimize an expectation value $E(\\boldsymbol\\theta)=\\langle \\psi(\\boldsymbol\\theta)|H|\\psi(\\boldsymbol\\theta)\\rangle$.\n",
        "* To optimize efficiently, we need $\\nabla_{\\boldsymbol\\theta} E$.\n",
        "* Gradient-free methods (Nelder-Mead, COBYLA) work but scale poorly and can be noisy.\n",
        "* Gradient-based methods (BFGS, Adam, SGD) can converge faster if we can evaluate derivatives.\n",
        "\n",
        "## The problem\n",
        "\n",
        "We **can't backpropagate** through a quantum circuit easily, because it's not just a differentiable function in Python — it's a unitary acting on quantum states.\n",
        "\n",
        "Naive finite differences:\n",
        "\n",
        "$$\n",
        "\\partial_\\theta E \\approx \\frac{E(\\theta+h) - E(\\theta)}{h}\n",
        "$$\n",
        "\n",
        "* Sensitive to choice of $h$.\n",
        "* Requires many extra evaluations.\n",
        "* High variance in hardware runs.\n",
        "\n",
        "## The parameter-shift rule\n",
        "\n",
        "For gates of the form\n",
        "\n",
        "$$\n",
        "U(\\theta) = e^{-i \\tfrac{\\theta}{2} G}, \\quad G^2 = I \\quad (\\text{Pauli generators}),\n",
        "$$\n",
        "\n",
        "we get an **exact identity**:\n",
        "\n",
        "$$\n",
        "\\frac{\\partial}{\\partial \\theta} E(\\theta)\n",
        "= \\frac{1}{2}\\Big[E(\\theta+\\tfrac{\\pi}{2}) - E(\\theta-\\tfrac{\\pi}{2})\\Big].\n",
        "$$\n",
        "\n",
        "* Works for RY, RX, RZ, controlled versions, etc.\n",
        "* Exact, not an approximation.\n",
        "* Only doubles the number of circuit evaluations per parameter (two shifts).\n",
        "\n",
        "It's important because:\n",
        "\n",
        "* Makes **gradient-based optimizers practical** in VQE and QAOA.\n",
        "* Robust to shot noise (you just need enough samples).\n",
        "* Extends to **vector of parameters**: evaluate 2 circuits per parameter.\n",
        "\n",
        "## Implementation\n",
        "\n",
        "In the following cells,\n",
        "\n",
        "1) Implement **parameter-shift gradients** for a small ansatz.\n",
        "2) Compare **finite differences** vs **parameter shift**.\n",
        "3) Try a **gradient-based optimizer** (BFGS) vs **gradient-free** (Nelder-Mead).\n",
        "4) Plot convergence and verify we reach close to the ground energy of $H=Z_0Z_1 + X_0 + X_1$.\n"
      ],
      "id": "AIoeNfvfvFyQ"
    },
    {
      "cell_type": "code",
      "metadata": {
        "id": "install"
      },
      "execution_count": 1,
      "outputs": [],
      "source": [
        "# Uncomment and install cuda-q if not already\n",
        "\n",
        "# %pip install --upgrade pip\n",
        "# %pip install cudaq"
      ],
      "id": "install"
    },
    {
      "cell_type": "markdown",
      "metadata": {
        "id": "aagPL9_avFyS"
      },
      "source": [
        "## Hamiltonian and Ansatz\n",
        "We re-use the 4-parameter RY-CNOT-RY ansatz (real amplitudes) from the previous notebook, which can reach the exact ground energy for this 2-qubit Hamiltonian.\n"
      ],
      "id": "aagPL9_avFyS"
    },
    {
      "cell_type": "code",
      "metadata": {
        "id": "ansatz_h",
        "colab": {
          "base_uri": "https://localhost:8080/"
        },
        "outputId": "8e48c9e4-d1b3-4bfb-b9cf-1bbe72a2b4e0"
      },
      "execution_count": 2,
      "outputs": [
        {
          "output_type": "stream",
          "name": "stdout",
          "text": [
            "H = (1+0i) * Z0Z1 + (1+0i) * X0 + (1+0i) * X1\n"
          ]
        }
      ],
      "source": [
        "import cudaq\n",
        "import numpy as np\n",
        "\n",
        "# Hamiltonian: H = Z0 Z1 + X0 + X1\n",
        "H = cudaq.spin.z(0) * cudaq.spin.z(1) + cudaq.spin.x(0) + cudaq.spin.x(1)\n",
        "print('H =', str(H))\n",
        "\n",
        "# Ansatz\n",
        "def make_kernel():\n",
        "    k, *params = cudaq.make_kernel(float, float, float, float)\n",
        "    q = k.qalloc(2)\n",
        "\n",
        "    k.ry(params[0], q[0])\n",
        "    k.ry(params[1], q[1])\n",
        "    k.cx(q[0], q[1])\n",
        "    k.ry(params[2], q[0])\n",
        "    k.ry(params[3], q[1])\n",
        "    return k\n",
        "\n",
        "# Expected energy: <H>\n",
        "def energy(params: np.ndarray) -> float:\n",
        "    k = make_kernel()\n",
        "    obs = cudaq.observe(k, H, *params.tolist())\n",
        "    return obs.expectation()"
      ],
      "id": "ansatz_h"
    },
    {
      "cell_type": "markdown",
      "metadata": {
        "id": "Udj7_arXvFyS"
      },
      "source": [
        "## Parameter-shift gradient\n",
        "For gates of the form $U(\\theta)=e^{-i\\theta G/2}$ with eigenvalues $\\pm 1$, the derivative obeys\n",
        "$$\\partial_\\theta E(\\theta) = \\tfrac{1}{2}\\big(E(\\theta+\\tfrac{\\pi}{2}) - E(\\theta-\\tfrac{\\pi}{2})\\big).$$\n",
        "RY rotations satisfy this. We implement a generic parameter-shift gradient for the energy.\n"
      ],
      "id": "Udj7_arXvFyS"
    },
    {
      "cell_type": "code",
      "metadata": {
        "id": "grads",
        "colab": {
          "base_uri": "https://localhost:8080/"
        },
        "outputId": "3efc841e-839c-4aed-8057-5c80d5828b96"
      },
      "execution_count": 3,
      "outputs": [
        {
          "output_type": "stream",
          "name": "stdout",
          "text": [
            "param-shift grad: [-0.8019929   0.69206998  0.85019665  0.54456368]\n",
            "finite-diff  grad: [-0.80194373  0.69213814  0.8502023   0.54462886]\n"
          ]
        }
      ],
      "source": [
        "from math import pi\n",
        "\n",
        "# Parameter-Shift Gradients (Exact)\n",
        "def grad_param_shift(params):\n",
        "    params = np.array(params, dtype=float)\n",
        "    g = np.zeros_like(params)\n",
        "    for i in range(len(params)):\n",
        "        # applying the parameter-shift for each parameter\n",
        "        xp = params.copy(); xp[i] += pi/2\n",
        "        xm = params.copy(); xm[i] -= pi/2\n",
        "        g[i] = 0.5 * (energy(xp) - energy(xm))\n",
        "    return g\n",
        "\n",
        "# Finite-Difference Gradient (Approximation)\n",
        "def grad_finite_diff(params, h=1e-4):\n",
        "    params = np.array(params, dtype=float)\n",
        "    g = np.zeros_like(params)\n",
        "    base = energy(params)\n",
        "    for i in range(len(params)):\n",
        "        # applying the finite-difference for each parameter\n",
        "        x = params.copy(); x[i] += h\n",
        "        g[i] = (energy(x) - base) / h\n",
        "    return g\n",
        "\n",
        "\n",
        "# Quick check\n",
        "x0 = np.array([0.3, -0.8, 0.5, -1.1])\n",
        "gp = grad_param_shift(x0)\n",
        "gf = grad_finite_diff(x0)\n",
        "print('param-shift grad:', gp)\n",
        "print('finite-diff  grad:', gf)"
      ],
      "id": "grads"
    },
    {
      "cell_type": "markdown",
      "metadata": {
        "id": "UVKaJwkKvFyS"
      },
      "source": [
        "## Optimize: gradient-free vs gradient-based\n",
        "We compare Nelder-Mead (no gradients) and BFGS (using parameter-shift gradients)."
      ],
      "id": "UVKaJwkKvFyS"
    },
    {
      "cell_type": "code",
      "metadata": {
        "id": "optimize",
        "colab": {
          "base_uri": "https://localhost:8080/"
        },
        "outputId": "fe3c18ea-b633-4a95-a71b-e41c2740947a"
      },
      "execution_count": 4,
      "outputs": [
        {
          "output_type": "stream",
          "name": "stdout",
          "text": [
            "Nelder-Mead  -> E* = -2.236067977499578\n",
            "BFGS (shift) -> E* = -2.236067977499768\n"
          ]
        }
      ],
      "source": [
        "from scipy.optimize import minimize\n",
        "import numpy as np\n",
        "\n",
        "def energy_with_hist(x, hist):\n",
        "    e = energy(x)\n",
        "    hist.append(e)\n",
        "    return e\n",
        "\n",
        "x_init = np.array([0.2, 0.9, -0.4, 0.7])\n",
        "\n",
        "# Histories\n",
        "hist_nm, hist_bfgs = [], []\n",
        "\n",
        "# Run optimizers\n",
        "res_nm = minimize(\n",
        "    energy,\n",
        "    x0=x_init,\n",
        "    callback=lambda x: energy_with_hist(x, hist_nm),\n",
        "    method='Nelder-Mead',\n",
        "    options={'maxiter':200, 'xatol':1e-6, 'fatol':1e-6})\n",
        "\n",
        "res_bfgs = minimize(\n",
        "    energy,\n",
        "    x0=x_init,\n",
        "    callback=lambda x: energy_with_hist(x, hist_bfgs),\n",
        "    method='BFGS',\n",
        "    jac=grad_param_shift, # Jacobian of single value cost func\n",
        "    options={'maxiter':200, 'gtol':1e-6})\n",
        "\n",
        "# Results\n",
        "# x_star_nm, e_star_nm = res_nm.x, energy(res_nm.x)\n",
        "# x_star_bg, e_star_bg = res_bfgs.x, energy(res_bfgs.x)\n",
        "e_star_nm = energy(res_nm.x)\n",
        "e_star_bg = energy(res_bfgs.x)\n",
        "\n",
        "print('Nelder-Mead  -> E* =', e_star_nm)\n",
        "print('BFGS (shift) -> E* =', e_star_bg)"
      ],
      "id": "optimize"
    },
    {
      "cell_type": "markdown",
      "source": [
        "Both methods converge the same minimum energy."
      ],
      "metadata": {
        "id": "Ypwf3epJRoeH"
      },
      "id": "Ypwf3epJRoeH"
    },
    {
      "cell_type": "markdown",
      "metadata": {
        "id": "0Ct6QDcSvFyS"
      },
      "source": [
        "## Plot convergence\n",
        "\n",
        "Both methods can find the ground state, but gradient-based methods (BFGS + parameter-shift) converge faster and more efficiently than gradient-free methods like Nelder-Mead."
      ],
      "id": "0Ct6QDcSvFyS"
    },
    {
      "cell_type": "code",
      "metadata": {
        "id": "plot",
        "colab": {
          "base_uri": "https://localhost:8080/",
          "height": 472
        },
        "outputId": "29186f9b-ed93-4181-fb82-ecbce02b8c62"
      },
      "execution_count": 5,
      "outputs": [
        {
          "output_type": "display_data",
          "data": {
            "text/plain": [
              "<Figure size 640x480 with 1 Axes>"
            ],
            "image/png": "[encoded data removed]"
          },
          "metadata": {}
        }
      ],
      "source": [
        "import matplotlib.pyplot as plt\n",
        "\n",
        "plt.figure()\n",
        "if hist_nm:\n",
        "    plt.plot(np.arange(1, len(hist_nm)+1), np.array(hist_nm), label='Nelder-Mead')\n",
        "if hist_bfgs:\n",
        "    plt.plot(np.arange(1, len(hist_bfgs)+1), np.array(hist_bfgs), label='BFGS (param-shift)')\n",
        "plt.axhline(-np.sqrt(5), linestyle='--', label='Ground: -sqrt(5)')\n",
        "plt.xlabel('Iteration')\n",
        "plt.ylabel('Energy <H>')\n",
        "plt.title('VQE Convergence')\n",
        "plt.legend()\n",
        "plt.show()\n"
      ],
      "id": "plot"
    }
  ],
  "metadata": {
    "kernelspec": {
      "display_name": "Python 3",
      "language": "python",
      "name": "python3"
    },
    "language_info": {
      "name": "python",
      "version": "3.10"
    },
    "colab": {
      "provenance": [],
      "include_colab_link": true
    }
  },
  "nbformat": 4,
  "nbformat_minor": 5
}