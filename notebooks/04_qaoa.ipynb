{
  "cells": [
    {
      "cell_type": "markdown",
      "metadata": {
        "id": "view-in-github",
        "colab_type": "text"
      },
      "source": [
        "<a href=\"https://colab.research.google.com/github/naokishibuya/cuda-q-experiments/blob/main/notebooks/04_qaoa.ipynb\" target=\"_parent\"><img src=\"https://colab.research.google.com/assets/colab-badge.svg\" alt=\"Open In Colab\"/></a>"
      ]
    },
    {
      "cell_type": "markdown",
      "metadata": {
        "id": "pQMxbSVdFAK_"
      },
      "source": [
        "# 04 — QAOA (Quantum Approximate Optimazation Algorithm)\n",
        "\n",
        "## QAOA and Ising/QUBO\n",
        "\n",
        "Many combinatorial optimization problems can be expressed in QUBO (Quadratic Unconstrained Binary Optimization) format, which can be mapped to an **Ising Hamiltonian**:\n",
        "\n",
        "$$\n",
        "H = \\sum_{i<j} J_{ij} Z_i Z_j + \\sum_i h_i Z_i\n",
        "$$\n",
        "\n",
        "The goal is to find the ground state (minimum energy), which corresponds to the optimal solution.\n",
        "- QAOA uses this $H$ as the \"cost Hamiltonian\", and alternates it with a **mixer** $\\sum_i X_i$.\n",
        "- This makes the overall circuit equivalent to simulating the **transverse-field Ising model (TFIM)** for $p$ steps.\n"
      ],
      "id": "pQMxbSVdFAK_"
    },
    {
      "cell_type": "code",
      "metadata": {
        "id": "install"
      },
      "execution_count": 1,
      "outputs": [],
      "source": [
        "# Uncomment and install cuda-q if not already\n",
        "\n",
        "# %pip install --upgrade pip\n",
        "# %pip install cudaq"
      ],
      "id": "install"
    },
    {
      "cell_type": "markdown",
      "metadata": {
        "id": "PPv-GGiRFALE"
      },
      "source": [
        "## Cost Hamiltonian and Mixer Hamiltonian\n",
        "\n",
        "For our two-qubit problem, we implement a minimal **QAOA** for the Hamiltonian\n",
        "\n",
        "$$\n",
        "H = Z_0 Z_1 + X_0 + X_1\n",
        "$$\n",
        "\n",
        "with $p\\in\\{1,2\\}$.\n",
        "\n",
        "We split $H$ into commuting pieces used by QAOA:\n",
        "\n",
        "$$\n",
        "H_Z = Z_0 Z_1, \\quad H_X = X_0 + X_1\n",
        "$$\n",
        "\n",
        "We only use $H$ and not $H_Z$ and $H_X$ individually but conceptually, the splitting allow us to exploit commutation and approximate the evolution under H."
      ],
      "id": "PPv-GGiRFALE"
    },
    {
      "cell_type": "code",
      "metadata": {
        "id": "ham",
        "colab": {
          "base_uri": "https://localhost:8080/"
        },
        "outputId": "eac2c5b1-6cf3-4850-a112-dff6a1d2d91d"
      },
      "execution_count": 2,
      "outputs": [
        {
          "output_type": "stream",
          "name": "stdout",
          "text": [
            "H = (1+0i) * X0 + (1+0i) * X1 + (1+0i) * Z0Z1\n"
          ]
        }
      ],
      "source": [
        "import cudaq\n",
        "\n",
        "HZ = cudaq.spin.z(0) * cudaq.spin.z(1)\n",
        "HX = cudaq.spin.x(0) + cudaq.spin.x(1)\n",
        "H  = HZ + HX\n",
        "print('H =', str(H))\n"
      ],
      "id": "ham"
    },
    {
      "cell_type": "markdown",
      "metadata": {
        "id": "7hgmX-aXFALF"
      },
      "source": [
        "## QAOA Ansatz\n",
        "\n",
        "We approximate each observable using an ansatz.\n",
        "\n",
        "Setup:\n",
        "- State prep is $|+\\rangle^{\\otimes 2}$.\n",
        "- For each layer $\\ell=1\\dots p$, we apply:\n",
        "$$ e^{-i\\,\\gamma_\\ell H_Z}\\;e^{-i\\,\\beta_\\ell H_X} $$\n",
        "\n",
        "Implementations:\n",
        "- $e^{-i\\,\\gamma Z_0Z_1} = \\mathrm{CNOT}_{0\\to1}\\,R_z(2\\gamma)_1\\,\\mathrm{CNOT}_{0\\to1}$\n",
        "- $e^{-i\\,\\beta (X_0+X_1)} = R_x(2\\beta)\\otimes R_x(2\\beta)$\n"
      ],
      "id": "7hgmX-aXFALF"
    },
    {
      "cell_type": "code",
      "metadata": {
        "id": "ansatz"
      },
      "execution_count": 3,
      "outputs": [],
      "source": [
        "import numpy as np\n",
        "\n",
        "# Ansatz for Cost Hamiltonian: ZZ rotation\n",
        "def cost_layer(k, q0, q1, gamma):\n",
        "    k.cx(q0, q1)\n",
        "    k.rz(2*gamma, q1)\n",
        "    k.cx(q0, q1)\n",
        "\n",
        "# Ansatz for Mixer Hamiltonian: X ⊗ X\n",
        "def mixer_layer(k, q0, q1, beta):\n",
        "    k.rx(2*beta, q0)\n",
        "    k.rx(2*beta, q1)\n",
        "\n",
        "# QAOA Ansatz\n",
        "def qaoa_kernel(p):\n",
        "    # params: gammas (p), betas (p)\n",
        "    k, *params = cudaq.make_kernel(*([float]*(2*p)))\n",
        "    q = k.qalloc(2)\n",
        "    # |++>\n",
        "    k.h(q)\n",
        "\n",
        "    # unpack and\n",
        "    gammas = params[:p]\n",
        "    betas  = params[p:]\n",
        "    for l in range(p):\n",
        "        cost_layer(k, q[0], q[1], gammas[l])\n",
        "        mixer_layer(k, q[0], q[1], betas[l])\n",
        "    return k\n",
        "\n",
        "# Cost function\n",
        "def energy(x, p):\n",
        "    k = qaoa_kernel(p)\n",
        "    return cudaq.observe(k, H, *[float(v) for v in x]).expectation()\n"
      ],
      "id": "ansatz"
    },
    {
      "cell_type": "markdown",
      "metadata": {
        "id": "sOLcZHrNFALG"
      },
      "source": [
        "## Optimize $(\\boldsymbol{\\gamma},\\boldsymbol{\\beta})$ for $p=1,2$\n",
        "\n",
        "We optimize $(\\boldsymbol{\\gamma},\\boldsymbol{\\beta})$ and compare to the exact ground energy $-\\sqrt{5}$.\n"
      ],
      "id": "sOLcZHrNFALG"
    },
    {
      "cell_type": "code",
      "metadata": {
        "id": "opt",
        "colab": {
          "base_uri": "https://localhost:8080/"
        },
        "outputId": "ebbadb84-02af-4da6-b740-a83041b17cab"
      },
      "execution_count": 4,
      "outputs": [
        {
          "output_type": "stream",
          "name": "stdout",
          "text": [
            "Ground energy: -sqrt(5) ≈ -2.23606798\n",
            "p=1: Minimum E ≈ -2.23606813, params = [1.3390 1.1781], nit = 62\n",
            "p=2: Minimum E ≈ -2.23606837, params = [0.3286 2.1228 0.7448 0.4484], nit = 123\n",
            "p=3: Minimum E ≈ -2.23606890, params = [0.6458 0.5547 1.7702 0.7690 0.5106 0.2835], nit = 157\n"
          ]
        }
      ],
      "source": [
        "from scipy.optimize import minimize\n",
        "from math import pi\n",
        "\n",
        "def solve_p(p):\n",
        "    # Initialize near reasonable angles\n",
        "    g = (np.arange(1, p+1)/p) * (np.pi/2)     # for cost\n",
        "    b = (1 - (np.arange(0, p))/p) * (np.pi/4) # for mixer\n",
        "    x0 = np.concatenate([g, b])\n",
        "\n",
        "    result = minimize(\n",
        "        lambda x: energy(x, p),\n",
        "        x0=x0,\n",
        "        method='Nelder-Mead',\n",
        "        options={\n",
        "            'maxiter': 1000,\n",
        "            'xatol':1e-10,\n",
        "            'fatol':1e-10,\n",
        "        }\n",
        "    )\n",
        "\n",
        "    nit = result.nit # number of iterations\n",
        "\n",
        "    if not result.success:\n",
        "        print(result.message)\n",
        "        return np.nan, np.nan, nit\n",
        "\n",
        "    optimal_x = result.x;\n",
        "    optimal_e = energy(optimal_x, p)\n",
        "    return optimal_x, optimal_e, nit\n",
        "\n",
        "\n",
        "print(f\"Ground energy: -sqrt(5) ≈ {-np.sqrt(5):.8f}\")\n",
        "\n",
        "np.set_printoptions(formatter={'float': '{:0.4f}'.format})\n",
        "for p in [1, 2, 3]:\n",
        "    optimal_x, optimal_e, nit = solve_p(p)\n",
        "    print(f\"p={p}: Minimum E ≈ {optimal_e:.8f}, params = {optimal_x}, nit = {nit}\")\n"
      ],
      "id": "opt"
    },
    {
      "cell_type": "markdown",
      "source": [
        "The result shows only 1 layer is enough to approximate the ground energy. Adding more layers does not help and add more iterations to converge."
      ],
      "metadata": {
        "id": "_C8fZQUlXykN"
      },
      "id": "_C8fZQUlXykN"
    }
  ],
  "metadata": {
    "kernelspec": {
      "display_name": "Python 3",
      "name": "python3"
    },
    "language_info": {
      "name": "python",
      "version": "3.10"
    },
    "colab": {
      "provenance": [],
      "gpuType": "T4",
      "include_colab_link": true
    },
    "accelerator": "GPU"
  },
  "nbformat": 4,
  "nbformat_minor": 5
}